{
 "cells": [
  {
   "cell_type": "code",
   "execution_count": 1,
   "id": "5f8ee88f",
   "metadata": {},
   "outputs": [
    {
     "name": "stdout",
     "output_type": "stream",
     "text": [
      "10\n"
     ]
    }
   ],
   "source": []
  },
  {
   "cell_type": "code",
   "execution_count": 2,
   "id": "f48fd757",
   "metadata": {},
   "outputs": [],
   "source": []
  },
  {
   "cell_type": "code",
   "execution_count": 5,
   "id": "4e44aaaf",
   "metadata": {},
   "outputs": [],
   "source": []
  },
  {
   "cell_type": "code",
   "execution_count": 6,
   "id": "8ec39066",
   "metadata": {},
   "outputs": [
    {
     "name": "stdout",
     "output_type": "stream",
     "text": [
      "[10 20 30 40]\n"
     ]
    }
   ],
   "source": []
  },
  {
   "cell_type": "code",
   "execution_count": null,
   "id": "c0f5d332",
   "metadata": {},
   "outputs": [],
   "source": []
  },
  {
   "cell_type": "code",
   "execution_count": 9,
   "id": "5a117fac",
   "metadata": {},
   "outputs": [
    {
     "name": "stdout",
     "output_type": "stream",
     "text": [
      "Type of a ==> <class 'array.array'>\n",
      "a value ==> array('i', [10, 20, 30])\n",
      "Elements one by one\n",
      "10\n",
      "20\n",
      "30\n"
     ]
    }
   ],
   "source": [
    "\n"
   ]
  },
  {
   "cell_type": "code",
   "execution_count": null,
   "id": "6e51e37f",
   "metadata": {},
   "outputs": [],
   "source": [
    "## To check the version of numpy\n",
    "\n",
    "import numpy as np\n",
    "print(np.__version__)\n"
   ]
  },
  {
   "cell_type": "code",
   "execution_count": null,
   "id": "d684e979",
   "metadata": {},
   "outputs": [],
   "source": [
    "## On list, we cannot perform vector operations\n",
    "\n",
    "import numpy as np\n",
    "l=[10,20,30,40]\n",
    "a=np.array([10,20,30,40])\n",
    "print(l+2)"
   ]
  },
  {
   "cell_type": "code",
   "execution_count": null,
   "id": "4b59d11a",
   "metadata": {},
   "outputs": [],
   "source": [
    "## On ndarray, we can perform vector operations\n",
    "\n",
    "import numpy as np\n",
    "l=[10,20,30,40]\n",
    "a=np.array([10,20,30,40])\n",
    "print(a+2)"
   ]
  },
  {
   "cell_type": "code",
   "execution_count": 16,
   "id": "88ab01d0",
   "metadata": {},
   "outputs": [
    {
     "name": "stdout",
     "output_type": "stream",
     "text": [
      "Size of list l 152\n",
      "Size of  ndarray a 184\n"
     ]
    }
   ],
   "source": [
    "## Arrays consume less memory than list\n",
    "\n",
    "import numpy as np\n",
    "import sys\n",
    "l=[10,20,30,40,50,60,70,80,90,100]\n",
    "a=np.array([10,20,30,40,50,60,70,80,90,100])\n",
    "print(\"Size of list l\", sys.getsizeof(l))\n",
    "print(\"Size of  ndarray a\", sys.getsizeof(a))\n",
    "\n"
   ]
  },
  {
   "cell_type": "code",
   "execution_count": 15,
   "id": "fe90e516",
   "metadata": {},
   "outputs": [
    {
     "name": "stdout",
     "output_type": "stream",
     "text": [
      "The Size of list l =>  216\n",
      "The Size of ndarray a =>  264\n"
     ]
    }
   ],
   "source": [
    "## Arrays consume less memory than list\n",
    "\n",
    "import numpy as np\n",
    "import sys\n",
    "l = [10,20,30,40,50,60,70,80,90,100,10,20,30,40,50,60,70,80,90,100]\n",
    "a = np.array([10,20,30,40,50,60,70,80,90,100,10,20,30,40,50,60,70,80,90,100])\n",
    "print('The Size of list l => ',sys.getsizeof(l))\n",
    "print('The Size of ndarray a => ',sys.getsizeof(a))"
   ]
  },
  {
   "cell_type": "code",
   "execution_count": 1,
   "id": "e116d615",
   "metadata": {},
   "outputs": [
    {
     "name": "stdout",
     "output_type": "stream",
     "text": [
      "The Time taken by traditional python: 0:00:01.596448\n",
      "The Time taken by Numpy library : 0:00:01.530465\n"
     ]
    }
   ],
   "source": [
    "## Arrays are superfast when compared with List\n",
    "\n",
    "import numpy as np\n",
    "from datetime import datetime\n",
    "\n",
    "a=np.array([10,20,30])\n",
    "b=np.array([1,2,3])\n",
    "\n",
    "#dot product: A.B = 10*1+20*2+30*3 = 140 \n",
    "\n",
    "#traditional Python code \n",
    "def dot_product(a,b):\n",
    "    result=0\n",
    "    for i,j in zip(a,b):\n",
    "        result=result+i*j\n",
    "    return result\n",
    "\n",
    "before=datetime.now()\n",
    "for i in range(1000000):\n",
    "    dot_product(a,b)\n",
    "after=datetime.now()\n",
    "\n",
    "\n",
    "print(\"The Time taken by traditional python:\", after-before)\n",
    "\n",
    "#numpy library code\n",
    "before=datetime.now()\n",
    "for i in range(1000000):\n",
    "    np.dot(a,b) # this is from numpy - Python provides a function to perform the dot product of two arrays\n",
    "after=datetime.now()\n",
    "\n",
    "print(\"The Time taken by Numpy library :\", after-before)"
   ]
  },
  {
   "cell_type": "code",
   "execution_count": 7,
   "id": "ed509eb8",
   "metadata": {},
   "outputs": [
    {
     "name": "stdout",
     "output_type": "stream",
     "text": [
      "Python list took: 140.04945755004883\n",
      "Numpy list took: 25.86841583251953\n"
     ]
    }
   ],
   "source": [
    "## List is slow , numpy is fast \n",
    "\n",
    "import numpy as np\n",
    "import time\n",
    "import sys\n",
    "\n",
    "SIZE=100000\n",
    "\n",
    "l1=range(SIZE)\n",
    "l2=range(SIZE)\n",
    "         \n",
    "a1=np.arange(SIZE)\n",
    "a2=np.arange(SIZE)       \n",
    "         \n",
    "#Python List\n",
    "start=time.time()\n",
    "result=[(x+y) for x,y in zip(l1,l2)]\n",
    "         \n",
    "#adds first element in l1 wigh first element of l2 and so on\n",
    "print(\"Python list took:\", (time.time()-start)*10000)\n",
    "         \n",
    "#numpy array\n",
    "start=time.time()\n",
    "result=a1+a2\n",
    "print(\"Numpy list took:\", (time.time()-start)*10000)         \n",
    "         "
   ]
  },
  {
   "cell_type": "code",
   "execution_count": null,
   "id": "c16f3eb0",
   "metadata": {},
   "outputs": [],
   "source": []
  },
  {
   "cell_type": "code",
   "execution_count": null,
   "id": "cef162a3",
   "metadata": {},
   "outputs": [],
   "source": []
  }
 ],
 "metadata": {
  "kernelspec": {
   "display_name": "Python 3 (ipykernel)",
   "language": "python",
   "name": "python3"
  },
  "language_info": {
   "codemirror_mode": {
    "name": "ipython",
    "version": 3
   },
   "file_extension": ".py",
   "mimetype": "text/x-python",
   "name": "python",
   "nbconvert_exporter": "python",
   "pygments_lexer": "ipython3",
   "version": "3.9.7"
  }
 },
 "nbformat": 4,
 "nbformat_minor": 5
}
